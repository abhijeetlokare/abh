{
 "cells": [
  {
   "cell_type": "code",
   "execution_count": 1,
   "id": "c5e2fa6d-aa0f-4445-bbf1-3ea6cdae1654",
   "metadata": {},
   "outputs": [
    {
     "data": {
      "text/plain": [
       "3"
      ]
     },
     "execution_count": 1,
     "metadata": {},
     "output_type": "execute_result"
    }
   ],
   "source": [
    "1+2"
   ]
  },
  {
   "cell_type": "code",
   "execution_count": 2,
   "id": "75980698-7c89-4071-8114-1e110f4dfe7b",
   "metadata": {},
   "outputs": [
    {
     "data": {
      "text/plain": [
       "\"abhi\""
      ]
     },
     "execution_count": 2,
     "metadata": {},
     "output_type": "execute_result"
    }
   ],
   "source": [
    "\"abhi\""
   ]
  },
  {
   "cell_type": "code",
   "execution_count": null,
   "id": "a8e4110a-749d-420a-a3ed-8cd5e379b221",
   "metadata": {},
   "outputs": [],
   "source": []
  }
 ],
 "metadata": {
  "kernelspec": {
   "display_name": "Julia 1.8.2",
   "language": "julia",
   "name": "julia-1.8"
  },
  "language_info": {
   "file_extension": ".jl",
   "mimetype": "application/julia",
   "name": "julia",
   "version": "1.8.2"
  }
 },
 "nbformat": 4,
 "nbformat_minor": 5
}
